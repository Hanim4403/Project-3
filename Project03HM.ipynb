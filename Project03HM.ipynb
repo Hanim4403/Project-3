{
 "cells": [
  {
   "cell_type": "markdown",
   "id": "cddf5de3-a9f3-4471-bbaf-aca41a70ce89",
   "metadata": {},
   "source": [
    "### INST326 OOP Project 03"
   ]
  },
  {
   "cell_type": "markdown",
   "id": "2bb7f115-9eba-4f29-918e-b016e6a7edc8",
   "metadata": {},
   "source": [
    "### Hani Mohamed\n",
    "> INST326 Section 0202 \n",
    "> Group 36  \n",
    "> Project 3  \n",
    "> 11/22/2024  \n",
    "> PIN  \n",
    "#### Honor Pledge\n",
    "> I pledge that the work contained in this assignment is my own"
   ]
  },
  {
   "cell_type": "markdown",
   "id": "8ee05bdb-db2d-41c2-9f23-3af75d058612",
   "metadata": {},
   "source": [
    "### The Project\n",
    "Everyone will do the same project this time. This is a group project, so you must work in your assigned groups. Include the link to your group's GitHub repository (one link per group). Use comments in your code to document your solution. If you need to write comments to the grader, add a markdown cell immediately above your code solution and add your comments there. Be sure to read and follow all the requirements and the Notebook Instructions at the bottom of this notebook. Your grade may depend on it!"
   ]
  },
  {
   "cell_type": "markdown",
   "id": "a1c98e85-2c64-4a03-8309-d91035cca6d2",
   "metadata": {
    "jp-MarkdownHeadingCollapsed": true
   },
   "source": [
    "#### 1. A Scheduling Program\r",
    ">  My wife is responsible for scheduling caregivers for her 93 year-old mother. Currently she writes out the schedule on a monthly calendar and photocopies it for everyone. I want all of you to help me write a program to help her with scheduling. While this is a specific application, this program will be broadly useful and adaptable to any scheduling needs for small businesses, clubs, and more."
   ]
  },
  {
   "cell_type": "markdown",
   "id": "28b28d8a-dbb3-4f15-bbe0-e14504b84876",
   "metadata": {},
   "source": [
    "#### Requirements\n",
    ">  Care is required 12 hours per day, 7 days a week. There are two shifts each day: 7:00 AM - 1:00 PM, and 1:00 PM to 7:00 PM. There are a total of 8 caregivers. Some are family members and some are paid. Each caregiver has their own availability for shifts that is generally the same from month to month, but there are exceptions for work, vacations, and other responsibilities. Your program should do the following:\n",
    "> 1. Manage caregivers and their schedules. Attributes include: name, phone, email, pay rate, and hours.\n",
    "> 2. Each caregiver should have their own availability schedule where they can indicate their availability for each shift. Availability categories are 'preferred', 'available' (default), and 'unavailable'.\n",
    "> 4. Create a care schedule that covers AM and PM shifts and displays caregiver names on a calendar (see example). The schedule should accomodate caregivers' individual schedules and availability preferences. The python calendar module provides options for creating HTML calendars. Sample code for the HTML calendar is in the project folder.\n",
    "> 5. Paid caregivers are paid weekly at $20/hr. Your program should calculate weekly pay based on assigned hours. Provide a separate pay report that lists weekly (gross: hours x rate) amounts to each caregiver, along with weekly and monthly totals. The report can be a text document, or presented in GUI or HTML format. "
   ]
  },
  {
   "cell_type": "markdown",
   "id": "6708f6cf-aac7-430e-947d-6f9c8dd161f6",
   "metadata": {
    "jp-MarkdownHeadingCollapsed": true
   },
   "source": [
    "#### Group Requirements\n",
    ">  1. Your submitted project should follow OOP principles like abstraction, encapsulation, inheritance, and polymorphism as appropriate. Your program should use classes. \n",
    ">  2. Select a group leader who will host the group's project repository on their GitHub.\n",
    ">  3. Create the group repository and add a main program document. See example.\n",
    ">  4. Create branches off the main program for each group member, and assign part of the program to each member.\n",
    ">  5. Each member should work on their branch.\n",
    ">  6. When each member is finished, merge the branches back into the main program. You may use 'merge' or 'pull requests', your choice.\n",
    ">  7. iterate and debug as necessary."
   ]
  },
  {
   "cell_type": "markdown",
   "id": "71b8f18e-607a-4c94-81a3-ebbc488ba8c6",
   "metadata": {},
   "source": [
    "#### Working with HTML\n",
    "> Since this is a course on python, not HTML, you are not expected to know HTML. Therefore, you may copy applicable portions of the sample code or use AI to write the HTML portions of your application. Ypu should write the main python code yourself.\n"
   ]
  },
  {
   "cell_type": "markdown",
   "id": "fc336368-4292-42af-aa60-06b27ff6b303",
   "metadata": {
    "jp-MarkdownHeadingCollapsed": true
   },
   "source": [
    "#### What you need to turn in\n",
    ">  This is a group project. There will be one submission per group. Your submission will be graded as a group.\n",
    ">  1. Include your group number and the names of all group members in the signature block at the top of this notebook.\n",
    ">  2. In the cell below, paste the link to your project repository. One link per group. The grader will review the activity and history provided by GitHub. To add a hyperlink to a Jupyter markdown cell, follow the instructions in the cell below.\n",
    ">  3. Below the GitHub Repository Link cell is a code cell. Copy and paste your final program code into this cell."
   ]
  },
  {
   "cell_type": "markdown",
   "id": "3ece03e6-a41f-484d-8417-d8c4e156b2c0",
   "metadata": {},
   "source": [
    "#### GitHub Repository Link\n",
    "> Example: [INST326_Fall2024/Projects/Project03](https://github.com/sdempwolf/INST326_Fall_2024/tree/main/Projects/Project03)\n",
    ">\n",
    "> Edit the link code below with your information, then run this cell. Test the link! It should take you to your GitHub project repository.\n",
    "> [external link text](http://url_here)"
   ]
  },
  {
   "cell_type": "code",
   "execution_count": null,
   "id": "7051b795-646c-496b-984b-7e8375b8104f",
   "metadata": {},
   "outputs": [],
   "source": []
  },
  {
   "cell_type": "code",
   "execution_count": 294,
   "id": "cb35b908-6683-4144-816c-051715925504",
   "metadata": {},
   "outputs": [
    {
     "name": "stdout",
     "output_type": "stream",
     "text": [
      "11/1/2024 (Friday): Hani M will work AM shift\n",
      "11/1/2024 (Friday): Amr K will work PM shift\n",
      "11/2/2024 (Saturday): Ria P will work AM shift\n",
      "11/2/2024 (Saturday): Hani M will work PM shift\n",
      "11/3/2024 (Sunday): Amr K will work AM shift\n",
      "11/3/2024 (Sunday): Ria P will work PM shift\n",
      "11/4/2024 (Monday): Hani M will work AM shift\n",
      "11/4/2024 (Monday): Amr K will work PM shift\n",
      "11/5/2024 (Tuesday): Ria P will work AM shift\n",
      "11/5/2024 (Tuesday): Hani M will work PM shift\n",
      "11/6/2024 (Wednesday): Amr K will work AM shift\n",
      "11/6/2024 (Wednesday): Ria P will work PM shift\n",
      "11/7/2024 (Thursday): Hani M will work AM shift\n",
      "11/7/2024 (Thursday): Amr K will work PM shift\n",
      "11/8/2024 (Friday): Ria P will work AM shift\n",
      "11/8/2024 (Friday): Hani M will work PM shift\n",
      "11/9/2024 (Saturday): Amr K will work AM shift\n",
      "11/9/2024 (Saturday): Ria P will work PM shift\n",
      "11/10/2024 (Sunday): Hani M will work AM shift\n",
      "11/10/2024 (Sunday): Amr K will work PM shift\n",
      "11/11/2024 (Monday): Ria P will work AM shift\n",
      "11/11/2024 (Monday): Hani M will work PM shift\n",
      "11/12/2024 (Tuesday): Amr K will work AM shift\n",
      "11/12/2024 (Tuesday): Ria P will work PM shift\n",
      "11/13/2024 (Wednesday): Hani M will work AM shift\n",
      "11/13/2024 (Wednesday): Amr K will work PM shift\n",
      "11/14/2024 (Thursday): Ria P will work AM shift\n",
      "11/14/2024 (Thursday): Hani M will work PM shift\n",
      "11/15/2024 (Friday): Amr K will work AM shift\n",
      "11/15/2024 (Friday): Ria P will work PM shift\n",
      "11/16/2024 (Saturday): Hani M will work AM shift\n",
      "11/16/2024 (Saturday): Amr K will work PM shift\n",
      "11/17/2024 (Sunday): Ria P will work AM shift\n",
      "11/17/2024 (Sunday): Hani M will work PM shift\n",
      "11/18/2024 (Monday): Amr K will work AM shift\n",
      "11/18/2024 (Monday): Ria P will work PM shift\n",
      "11/19/2024 (Tuesday): Hani M will work AM shift\n",
      "11/19/2024 (Tuesday): Amr K will work PM shift\n",
      "11/20/2024 (Wednesday): Ria P will work AM shift\n",
      "11/20/2024 (Wednesday): Hani M will work PM shift\n",
      "11/21/2024 (Thursday): Amr K will work AM shift\n",
      "11/21/2024 (Thursday): Ria P will work PM shift\n",
      "11/22/2024 (Friday): Hani M will work AM shift\n",
      "11/22/2024 (Friday): Amr K will work PM shift\n",
      "11/23/2024 (Saturday): Ria P will work AM shift\n",
      "11/23/2024 (Saturday): Hani M will work PM shift\n",
      "11/24/2024 (Sunday): Amr K will work AM shift\n",
      "11/24/2024 (Sunday): Ria P will work PM shift\n",
      "11/25/2024 (Monday): Hani M will work AM shift\n",
      "11/25/2024 (Monday): Amr K will work PM shift\n",
      "11/26/2024 (Tuesday): Ria P will work AM shift\n",
      "11/26/2024 (Tuesday): Hani M will work PM shift\n",
      "11/27/2024 (Wednesday): Amr K will work AM shift\n",
      "11/27/2024 (Wednesday): Ria P will work PM shift\n",
      "11/28/2024 (Thursday): Hani M will work AM shift\n",
      "11/28/2024 (Thursday): Amr K will work PM shift\n",
      "11/29/2024 (Friday): Ria P will work AM shift\n",
      "11/29/2024 (Friday): Hani M will work PM shift\n",
      "11/30/2024 (Saturday): Amr K will work AM shift\n",
      "11/30/2024 (Saturday): Ria P will work PM shift\n"
     ]
    }
   ],
   "source": [
    "# Solution - enter your code solution below\n",
    "import calendar\n",
    "\n",
    "class Caregiver:\n",
    "    def __init__(self, year, month):\n",
    "        if not (1 <= month <= 12):\n",
    "            raise ValueError(\"Month must be between 1 and 12\")\n",
    "        self.year = year\n",
    "        self.month = month\n",
    "        self.time = [\"7:00AM - 1:00PM\", \"1:00PM - 7:00PM\"]\n",
    "\n",
    "    def days_schedule(self):\n",
    "        try:\n",
    "            num_days = calendar.monthrange(self.year, self.month)[1]\n",
    "            start_day = calendar.monthrange(self.year, self.month)[0]  \n",
    "        except IndexError as e:\n",
    "            raise ValueError(f\"Invalid year or month: {self.year}-{self.month}\") from e\n",
    "\n",
    "        schedule = {}\n",
    "        am = [\"Hani M\", \"Ria P\", \"Amr K\"]\n",
    "        pm = [\"Amr K\", \"Hani M\", \"Ria P\"]\n",
    "        days_of_week = [\"Monday\", \"Tuesday\", \"Wednesday\", \"Thursday\", \"Friday\", \"Saturday\", \"Sunday\"]\n",
    "\n",
    "        for day in range(1, num_days + 1):\n",
    "            day_of_week = days_of_week[(start_day + (day - 1)) % 7]\n",
    "            schedule[f\"{self.month}/{day}/{self.year} ({day_of_week})\"] = {\n",
    "                self.time[0]: am[(day - 1) % len(am)],\n",
    "                self.time[1]: pm[(day - 1) % len(pm)]\n",
    "            }\n",
    "        return schedule\n",
    "\n",
    "    def create(self):\n",
    "        schedule = self.days_schedule()\n",
    "        for date, time in schedule.items():\n",
    "            print(f\"{date}: {time['7:00AM - 1:00PM']} will work AM shift\")\n",
    "            print(f\"{date}: {time['1:00PM - 7:00PM']} will work PM shift\")\n",
    "\n",
    "    def generate_html_calendar(self):\n",
    "        schedule = self.days_schedule()\n",
    "        html_content = \"<html><head><title>Caregiver Schedule</title></head><body>\"\n",
    "        html_content += \"<h1>Caregiver Schedule</h1>\"\n",
    "        html_content += \"<table border='1'><tr><th>Date</th><th>AM Caregiver (7:00AM - 1:00PM)</th><th>PM Caregiver (1:00PM - 7:00PM)</th></tr>\"\n",
    "        for date, time in schedule.items():\n",
    "            html_content += f\"<tr><td>{date}</td><td>{time[self.time[0]]}</td><td>{time[self.time[1]]}</td></tr>\"\n",
    "        html_content += \"</table></body></html>\"\n",
    "        with open(\"caregiver_schedule.html\", \"w\") as file:\n",
    "            file.write(html_content)\n",
    "\n",
    "if __name__ == \"__main__\":\n",
    "    caregiver = Caregiver(2024, 11)\n",
    "    caregiver.create()\n",
    "    caregiver.generate_html_calendar()\n"
   ]
  },
  {
   "cell_type": "markdown",
   "id": "ec8ddd19-87cd-475d-a07f-7dc8983dc636",
   "metadata": {},
   "source": [
    "### Notebook Instructions\n",
    "> Before turning in your notebook:\n",
    "> 1. Make sure you have renamed the notebook file as instructed\n",
    "> 2. Make sure you have included your signature block and that it is correct according to the instructions\n",
    "> 3. comment your code as necessary\n",
    "> 4. run all code cells and double check that they run correctly. If you can't get your code to run correctly and you want partial credit, add a note for the grader in a new markdown cell directly above your code solution.<br><br>\n",
    "Turn in your notebook by uploading it to ELMS<br>\n",
    "IF the exercises involve saved data files, put your notebook and the data file(s) in a zip folder and upload the zip folder to ELMS"
   ]
  },
  {
   "cell_type": "code",
   "execution_count": null,
   "id": "804288c0-bb46-425c-9e94-d96e931ef465",
   "metadata": {},
   "outputs": [],
   "source": []
  }
 ],
 "metadata": {
  "kernelspec": {
   "display_name": "Python 3 (ipykernel)",
   "language": "python",
   "name": "python3"
  },
  "language_info": {
   "codemirror_mode": {
    "name": "ipython",
    "version": 3
   },
   "file_extension": ".py",
   "mimetype": "text/x-python",
   "name": "python",
   "nbconvert_exporter": "python",
   "pygments_lexer": "ipython3",
   "version": "3.12.4"
  }
 },
 "nbformat": 4,
 "nbformat_minor": 5
}
