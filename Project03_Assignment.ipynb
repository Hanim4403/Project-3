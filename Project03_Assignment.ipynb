from datetime import datetime, time  # Import time-related modules
from enum import Enum  # Import Enum for availability status
from typing import Dict, List  # Import type hints

class Availability(Enum):
    # Enum for caregiver availability status
    PREFERRED = "preferred"     # Caregiver prefers this shift
    AVAILABLE = "available"     # Caregiver can work this shift
    UNAVAILABLE = "unavailable" # Caregiver cannot work this shift

class Shift:
    # Class representing a work shift
    AM_START = time(7, 0)   # Morning shift start time: 7:00 AM
    AM_END = time(13, 0)    # Morning shift end time: 1:00 PM
    PM_START = time(13, 0)  # Afternoon shift start time: 1:00 PM
    PM_END = time(19, 0)    # Afternoon shift end time: 7:00 PM

    def __init__(self, is_am: bool):
        self.is_am = is_am  # Boolean flag for AM/PM shift
        self.start_time = self.AM_START if is_am else self.PM_START  # Set start time based on shift
        self.end_time = self.AM_END if is_am else self.PM_END       # Set end time based on shift

    def __str__(self):
        shift_name = "AM" if self.is_am else "PM"  # Get shift name (AM/PM)
        return f"{shift_name} Shift ({self.start_time.strftime('%I:%M %p')} - {self.end_time.strftime('%I:%M %p')})"  # Format shift times

class Caregiver:
    # Class representing a caregiver
    def __init__(self, name: str, phone: str, email: str, pay_rate: float):
        self.name = name           # Caregiver's name
        self.phone = phone         # Caregiver's phone number
        self.email = email         # Caregiver's email
        self.pay_rate = pay_rate   # Hourly pay rate
        self.hours = 0             # Initialize worked hours to 0
        # Create default availability schedule - all shifts set to available
        self.availability = {
            'monday': {'am': Availability.AVAILABLE, 'pm': Availability.AVAILABLE},
            'tuesday': {'am': Availability.AVAILABLE, 'pm': Availability.AVAILABLE},
            'wednesday': {'am': Availability.AVAILABLE, 'pm': Availability.AVAILABLE},
            'thursday': {'am': Availability.AVAILABLE, 'pm': Availability.AVAILABLE},
            'friday': {'am': Availability.AVAILABLE, 'pm': Availability.AVAILABLE},
            'saturday': {'am': Availability.AVAILABLE, 'pm': Availability.AVAILABLE},
            'sunday': {'am': Availability.AVAILABLE, 'pm': Availability.AVAILABLE}
        }

    def set_availability(self, day: str, shift: str, status: Availability):
        # Set availability for a specific day and shift
        day = day.lower()     # Convert day to lowercase
        shift = shift.lower() # Convert shift to lowercase
        if day not in self.availability:  # Validate day input
            raise ValueError(f"Invalid day: {day}")
        if shift not in ['am', 'pm']:     # Validate shift input
            raise ValueError(f"Invalid shift: {shift}")
        if not isinstance(status, Availability):  # Validate status input
            raise ValueError(f"Invalid availability status: {status}")
        
        self.availability[day][shift] = status  # Set the availability status

    def get_availability(self, day: str, shift: str) -> Availability:
        # Get availability for a specific day and shift
        day = day.lower()     # Convert day to lowercase
        shift = shift.lower() # Convert shift to lowercase
        return self.availability[day][shift]  # Return availability status

    def set_weekly_availability(self, day: str, status: Availability):
        # Set availability for both shifts on a specific day
        self.set_availability(day, 'am', status)  # Set morning availability
        self.set_availability(day, 'pm', status)  # Set afternoon availability

    def add_hours(self, hours: float):
        # Add worked hours to caregiver's total
        self.hours += hours  # Add hours to total

    def __str__(self):
        # Format caregiver info for string representation
        return f"Caregiver: {self.name}\nContact: {self.phone}, {self.email}\nPay Rate: ${self.pay_rate}/hr"

class CaregiverManager:
    # Class to manage multiple caregivers
    def __init__(self):
        self.caregivers: List[Caregiver] = []  # Initialize empty list of caregivers

    def add_caregiver(self, caregiver: Caregiver):
        # Add a new caregiver to the system
        self.caregivers.append(caregiver)  # Add caregiver to list

    def remove_caregiver(self, caregiver_name: str):
        # Remove a caregiver from the system by name
        self.caregivers = [cg for cg in self.caregivers if cg.name != caregiver_name]  # Filter out caregiver by name

    def get_caregiver(self, name: str) -> Caregiver:
        # Get a caregiver by name
        for caregiver in self.caregivers:  # Search through caregivers
            if caregiver.name.lower() == name.lower():  # Case-insensitive name comparison
                return caregiver
        raise ValueError(f"Caregiver not found: {name}")  # Raise error if not found

    def get_available_caregivers(self, day: str, shift: str) -> List[Caregiver]:
        # Get list of caregivers available for a specific day and shift
        return [cg for cg in self.caregivers  # Return list of caregivers
                if cg.get_availability(day, shift) in 
                [Availability.AVAILABLE, Availability.PREFERRED]]  # Check if available or preferred

    def get_preferred_caregivers(self, day: str, shift: str) -> List[Caregiver]:
        # Get list of caregivers who prefer a specific day and shift
        return [cg for cg in self.caregivers  # Return list of caregivers
                if cg.get_availability(day, shift) == Availability.PREFERRED]  # Check if preferred
